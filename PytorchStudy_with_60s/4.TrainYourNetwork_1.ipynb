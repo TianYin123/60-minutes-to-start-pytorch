{
 "cells": [
  {
   "cell_type": "markdown",
   "id": "0312b1e5-e2c5-4563-977d-a1e772f627fd",
   "metadata": {},
   "source": [
    "# Training an image classifier\n",
    "We will do the following steps in order:\n",
    "\n",
    "Load and normalize the CIFAR10 training and test datasets using torchvision  \n",
    "Define a Convolutional Neural Network  \n",
    "Define a loss function  \n",
    "Train the network on the training data  \n",
    "Test the network on the test data  \n",
    "\n",
    "训练流程如下：  \n",
    "\n",
    "通过调用 torchvision 加载和归一化 CIFAR10 训练集和测试集；  \n",
    "构建一个卷积神经网络；  \n",
    "定义一个损失函数；  \n",
    "在训练集上训练网络；  \n",
    "在测试集上测试网络性能。  "
   ]
  },
  {
   "cell_type": "markdown",
   "id": "b4432989-4bd8-40e4-a2bc-4bf4317bf4cb",
   "metadata": {},
   "source": [
    "## 1. Load and normalize CIFAR10\n",
    "\n",
    "Using ``torchvision``, it’s extremely easy to load CIFAR10."
   ]
  },
  {
   "cell_type": "code",
   "execution_count": 23,
   "id": "e8c06cbd-ee90-46af-97aa-8e86bd7e068a",
   "metadata": {},
   "outputs": [],
   "source": [
    "#import necessary package\n",
    "import torch\n",
    "import torchvision\n",
    "import torchvision.transforms as transforms"
   ]
  },
  {
   "cell_type": "markdown",
   "id": "1d877365-193c-4920-9a85-1fca69639553",
   "metadata": {},
   "source": [
    "The output of torchvision datasets are PILImage images of range [0, 1]. We transform them to Tensors of normalized range [-1, 1].  \n",
    "torchvision 的数据集输出的图片都是 PILImage ，即取值范围是 [0, 1] ，这里需要做一个转换，变成取值范围是 [-1, 1] , 代码如下所示："
   ]
  },
  {
   "cell_type": "code",
   "execution_count": 24,
   "id": "0b927a02-0267-43f4-9438-c1053a2aa1e0",
   "metadata": {},
   "outputs": [
    {
     "name": "stdout",
     "output_type": "stream",
     "text": [
      "Files already downloaded and verified\n",
      "Files already downloaded and verified\n"
     ]
    }
   ],
   "source": [
    "# 将图片数据从 [0,1] 归一化为 [-1, 1] 的取值范围\n",
    "transform = transforms.Compose(\n",
    "    [transforms.ToTensor(),\n",
    "     transforms.Normalize((0.5, 0.5, 0.5), (0.5, 0.5, 0.5))])\n",
    "\n",
    "trainset = torchvision.datasets.CIFAR10(root='./data', train=True,\n",
    "                                        download=True, transform=transform)\n",
    "trainloader = torch.utils.data.DataLoader(trainset, batch_size=4,\n",
    "                                          shuffle=True, num_workers=2)\n",
    "\n",
    "testset = torchvision.datasets.CIFAR10(root='./data', train=False,\n",
    "                                       download=True, transform=transform)\n",
    "testloader = torch.utils.data.DataLoader(testset, batch_size=4,\n",
    "                                         shuffle=False, num_workers=2)\n",
    "\n",
    "classes = ('plane', 'car', 'bird', 'cat',\n",
    "           'deer', 'dog', 'frog', 'horse', 'ship', 'truck')"
   ]
  },
  {
   "cell_type": "markdown",
   "id": "f3f3d84b-6874-47a8-a973-84e1e4c0d28b",
   "metadata": {},
   "source": [
    "Let us show some of the training images, for fun."
   ]
  },
  {
   "cell_type": "code",
   "execution_count": 25,
   "id": "936ac7af-3cc2-47e9-ba88-c388769a4bcd",
   "metadata": {},
   "outputs": [
    {
     "data": {
      "image/png": "[encoded data removed]",
      "text/plain": [
       "<Figure size 640x480 with 1 Axes>"
      ]
     },
     "metadata": {},
     "output_type": "display_data"
    },
    {
     "name": "stdout",
     "output_type": "stream",
     "text": [
      "  cat horse  deer   cat\n"
     ]
    }
   ],
   "source": [
    "import matplotlib.pyplot as plt\n",
    "import numpy as np\n",
    "\n",
    "# functions to show an image 展示图片的函数\n",
    "def imshow(img):\n",
    "    img = img / 2 + 0.5     # unnormalize 非归一化\n",
    "    npimg = img.numpy()\n",
    "    plt.imshow(np.transpose(npimg, (1, 2, 0)))\n",
    "    plt.show()\n",
    "\n",
    "\n",
    "# get some random training images 随机获取训练集图片\n",
    "dataiter = iter(trainloader)\n",
    "images, labels = next(dataiter)\n",
    "\n",
    "# show images 展示图片\n",
    "imshow(torchvision.utils.make_grid(images))\n",
    "# print labels 打印图片类别标签\n",
    "print(' '.join('%5s' % classes[labels[j]] for j in range(4)))"
   ]
  },
  {
   "cell_type": "markdown",
   "id": "abab2b96-ff71-47a2-ba94-7def83cc5400",
   "metadata": {},
   "source": [
    "## 2. Define a Convolutional Neural Network\n",
    "Copy the neural network from the Neural Networks section before and modify it to\n",
    "take 3-channel images (instead of 1-channel images as it was defined).  \n",
    "这部分内容其实直接采用上一节定义的网络即可，除了修改 conv1 的输入通道，从 1 变为 3，因为这次接收的是 3 通道的彩色图片。"
   ]
  },
  {
   "cell_type": "code",
   "execution_count": 26,
   "id": "738df904-7f02-483b-90e8-f544e22b1b95",
   "metadata": {},
   "outputs": [],
   "source": [
    "import torch.nn as nn\n",
    "import torch.nn.functional as F\n",
    "\n",
    "\n",
    "class Net(nn.Module):\n",
    "    def __init__(self):\n",
    "        super().__init__()\n",
    "        self.conv1 = nn.Conv2d(3, 6, 5)\n",
    "        self.pool = nn.MaxPool2d(2, 2)\n",
    "        self.conv2 = nn.Conv2d(6, 16, 5)\n",
    "        self.fc1 = nn.Linear(16 * 5 * 5, 120)\n",
    "        self.fc2 = nn.Linear(120, 84)\n",
    "        self.fc3 = nn.Linear(84, 10)\n",
    "\n",
    "    def forward(self, x):\n",
    "        x = self.pool(F.relu(self.conv1(x)))\n",
    "        x = self.pool(F.relu(self.conv2(x)))\n",
    "        x = torch.flatten(x, 1) # flatten all dimensions except batch\n",
    "        x = F.relu(self.fc1(x))\n",
    "        x = F.relu(self.fc2(x))\n",
    "        x = self.fc3(x)\n",
    "        return x\n",
    "\n",
    "\n",
    "net = Net()"
   ]
  },
  {
   "cell_type": "markdown",
   "id": "8c5b1244-20bc-45f0-a016-ad9ee73c76a6",
   "metadata": {},
   "source": [
    "## 3. Define a Loss function and optimizer\n",
    "Let's use a Classification Cross-Entropy loss and SGD with momentum.\n",
    "\n",
    "这里采用类别交叉熵函数和带有动量的 SGD 优化方法：\n"
   ]
  },
  {
   "cell_type": "code",
   "execution_count": 27,
   "id": "40e3b1ea-a97e-45d1-8b8a-94fe3e46a933",
   "metadata": {},
   "outputs": [],
   "source": [
    "import torch.optim as optim\n",
    "\n",
    "criterion = nn.CrossEntropyLoss()\n",
    "optimizer = optim.SGD(net.parameters(), lr=0.001, momentum=0.9)"
   ]
  },
  {
   "cell_type": "markdown",
   "id": "cc7df2e7-186c-48a3-ac42-413ca80c2d27",
   "metadata": {},
   "source": [
    "## 4. Train the network\n",
    "\n",
    "This is when things start to get interesting.\n",
    "We simply have to loop over our data iterator, and feed the inputs to the\n",
    "network and optimize.\n",
    "\n",
    "第四步自然就是开始训练网络，指定需要迭代的 epoch，然后输入数据，指定次数打印当前网络的信息，比如 loss 或者准确率等性能评价标准。"
   ]
  },
  {
   "cell_type": "code",
   "execution_count": 28,
   "id": "9f4ea8b5-6cb4-4b90-8a0f-b05bc4b00fa2",
   "metadata": {},
   "outputs": [
    {
     "name": "stdout",
     "output_type": "stream",
     "text": [
      "[1,  2000] loss: 2.198\n",
      "[1,  4000] loss: 1.816\n",
      "[1,  6000] loss: 1.654\n",
      "[1,  8000] loss: 1.562\n",
      "[1, 10000] loss: 1.540\n",
      "[1, 12000] loss: 1.448\n",
      "[2,  2000] loss: 1.386\n",
      "[2,  4000] loss: 1.358\n",
      "[2,  6000] loss: 1.321\n",
      "[2,  8000] loss: 1.333\n",
      "[2, 10000] loss: 1.303\n",
      "[2, 12000] loss: 1.309\n",
      "Finished Training! Total cost time:  4510.420213937759\n"
     ]
    }
   ],
   "source": [
    "for epoch in range(2):  # loop over the dataset multiple times\n",
    "\n",
    "    running_loss = 0.0\n",
    "    for i, data in enumerate(trainloader, 0):\n",
    "        # get the inputs; data is a list of [inputs, labels] 获取输入数据\n",
    "        inputs, labels = data\n",
    "\n",
    "        # zero the parameter gradients 清空梯度缓存\n",
    "        optimizer.zero_grad()\n",
    "\n",
    "        # forward + backward + optimize\n",
    "        outputs = net(inputs)\n",
    "        loss = criterion(outputs, labels)\n",
    "        loss.backward()\n",
    "        optimizer.step()\n",
    "\n",
    "        # print statistics 打印统计信息\n",
    "        running_loss += loss.item()\n",
    "        if i % 2000 == 1999:    # print every 2000 mini-batches\n",
    "            print(f'[{epoch + 1}, {i + 1:5d}] loss: {running_loss / 2000:.3f}')\n",
    "            running_loss = 0.0\n",
    "            \n",
    "print('Finished Training! Total cost time: ', time.time() - start)"
   ]
  },
  {
   "cell_type": "markdown",
   "id": "1b10c64e-bfc7-40ed-8b9f-1aef87aada33",
   "metadata": {},
   "source": [
    "Let's quickly save our trained model:\n",
    "See [here](https://pytorch.org/docs/stable/notes/serialization.html)\n",
    "for more details on saving PyTorch models."
   ]
  },
  {
   "cell_type": "code",
   "execution_count": 12,
   "id": "d9dfc1b8-cf6e-4bb0-a47c-f2759489a3f3",
   "metadata": {},
   "outputs": [],
   "source": [
    "PATH = './cifar_net.pth'\n",
    "torch.save(net.state_dict(), PATH)"
   ]
  },
  {
   "cell_type": "markdown",
   "id": "a47bb92b-bd70-4e15-a72f-ab67d0586ed4",
   "metadata": {},
   "source": [
    "## 5. Test the network on the test data\n",
    "\n",
    "We have trained the network for 2 passes over the training dataset.\n",
    "But we need to check if the network has learnt anything at all.\n",
    "\n",
    "We will check this by predicting the class label that the neural network\n",
    "outputs, and checking it against the ground-truth. If the prediction is\n",
    "correct, we add the sample to the list of correct predictions.\n",
    "\n",
    "Okay, first step. Let us display an image from the test set to get familiar.\n",
    "\n",
    "训练好一个网络模型后，就需要用测试集进行测试，检验网络模型的泛化能力。对于图像分类任务来说，一般就是用准确率作为评价标准。  \n",
    "\n",
    "首先，我们先用一个 batch 的图片进行小小测试，这里 batch=4 ，也就是 4 张图片，代码如下：\n",
    "\n"
   ]
  },
  {
   "cell_type": "code",
   "execution_count": 13,
   "id": "052a33cf-214e-4ff3-a455-851590d26d09",
   "metadata": {},
   "outputs": [
    {
     "data": {
      "image/png": "[encoded data removed]",
      "text/plain": [
       "<Figure size 640x480 with 1 Axes>"
      ]
     },
     "metadata": {},
     "output_type": "display_data"
    },
    {
     "name": "stdout",
     "output_type": "stream",
     "text": [
      "GroundTruth:  cat   ship  ship  plane\n"
     ]
    }
   ],
   "source": [
    "dataiter = iter(testloader)\n",
    "images, labels = next(dataiter)\n",
    "\n",
    "# print images\n",
    "imshow(torchvision.utils.make_grid(images))\n",
    "print('GroundTruth: ', ' '.join(f'{classes[labels[j]]:5s}' for j in range(4)))"
   ]
  },
  {
   "cell_type": "markdown",
   "id": "eb0134bb-d29d-49d8-9851-98e7dd87c389",
   "metadata": {},
   "source": [
    "Next, let's load back in our saved model (note: saving and re-loading the model wasn't necessary here, we only did it to illustrate how to do so):\n",
    "    \n",
    "然后用这四张图片输入网络，看看网络的预测结果："
   ]
  },
  {
   "cell_type": "code",
   "execution_count": 14,
   "id": "c400c113-f5b0-4053-97c3-938ea9843db6",
   "metadata": {},
   "outputs": [
    {
     "data": {
      "text/plain": [
       "<All keys matched successfully>"
      ]
     },
     "execution_count": 14,
     "metadata": {},
     "output_type": "execute_result"
    }
   ],
   "source": [
    "net = Net()\n",
    "net.load_state_dict(torch.load(PATH))"
   ]
  },
  {
   "cell_type": "markdown",
   "id": "9f77437a-74fb-49cf-ade6-1689ad33bcb1",
   "metadata": {},
   "source": [
    "Okay, now let us see what the neural network thinks these examples above are:\n",
    "\n",
    "接着，让我们看看在整个测试集上的准确率可以达到多少吧！"
   ]
  },
  {
   "cell_type": "code",
   "execution_count": 16,
   "id": "b4c30731-c4c8-4cea-ade4-b347c79d1f1d",
   "metadata": {},
   "outputs": [
    {
     "name": "stdout",
     "output_type": "stream",
     "text": [
      "Accuracy of the network on the 10000 test images: 56 %\n"
     ]
    }
   ],
   "source": [
    "correct = 0\n",
    "total = 0\n",
    "# since we're not training, we don't need to calculate the gradients for our outputs\n",
    "with torch.no_grad():\n",
    "    for data in testloader:\n",
    "        images, labels = data\n",
    "        # calculate outputs by running images through the network\n",
    "        outputs = net(images)\n",
    "        # the class with the highest energy is what we choose as prediction\n",
    "        _, predicted = torch.max(outputs.data, 1)\n",
    "        total += labels.size(0)\n",
    "        correct += (predicted == labels).sum().item()\n",
    "\n",
    "print(f'Accuracy of the network on the 10000 test images: {100 * correct // total} %')"
   ]
  },
  {
   "cell_type": "markdown",
   "id": "637697fb-7d22-4ffc-a462-897a8b7186c8",
   "metadata": {},
   "source": [
    "That looks way better than chance, which is 10% accuracy (randomly picking a class out of 10 classes). Seems like the network learnt something.\n",
    "\n",
    "Hmmm, what are the classes that performed well, and the classes that did not perform well:\n",
    "\n",
    "结果是 56% ，因为权重初始化问题，可能多少有些浮动，相比随机猜测 10 个类别的准确率(即 10%)，这个结果是不错的，当然实际上是非常不好，不过我们仅仅采用 5 层网络，而且仅仅作为教程的一个示例代码。\n",
    "\n",
    "然后，还可以再进一步，查看每个类别的分类准确率，跟上述代码有所不同的是，计算准确率部分是 c = (predicted == labels).squeeze()，这段代码其实会根据预测和真实标签是否相等，输出 1 或者 0，表示真或者假，因此在计算当前类别正确预测数量时候直接相加，预测正确自然就是加 1，错误就是加 0，也就是没有变化。"
   ]
  },
  {
   "cell_type": "code",
   "execution_count": 17,
   "id": "e59dccb0-cdd6-41f5-bcaa-6886e0a8d02a",
   "metadata": {},
   "outputs": [
    {
     "name": "stdout",
     "output_type": "stream",
     "text": [
      "Accuracy for class: plane is 60.0 %\n",
      "Accuracy for class: car   is 74.5 %\n",
      "Accuracy for class: bird  is 56.5 %\n",
      "Accuracy for class: cat   is 35.1 %\n",
      "Accuracy for class: deer  is 41.0 %\n",
      "Accuracy for class: dog   is 42.4 %\n",
      "Accuracy for class: frog  is 64.3 %\n",
      "Accuracy for class: horse is 57.7 %\n",
      "Accuracy for class: ship  is 68.7 %\n",
      "Accuracy for class: truck is 60.7 %\n"
     ]
    }
   ],
   "source": [
    "# prepare to count predictions for each class\n",
    "correct_pred = {classname: 0 for classname in classes}\n",
    "total_pred = {classname: 0 for classname in classes}\n",
    "\n",
    "# again no gradients needed\n",
    "with torch.no_grad():\n",
    "    for data in testloader:\n",
    "        images, labels = data\n",
    "        outputs = net(images)\n",
    "        _, predictions = torch.max(outputs, 1)\n",
    "        # collect the correct predictions for each class\n",
    "        for label, prediction in zip(labels, predictions):\n",
    "            if label == prediction:\n",
    "                correct_pred[classes[label]] += 1\n",
    "            total_pred[classes[label]] += 1\n",
    "\n",
    "\n",
    "# print accuracy for each class\n",
    "for classname, correct_count in correct_pred.items():\n",
    "    accuracy = 100 * float(correct_count) / total_pred[classname]\n",
    "    print(f'Accuracy for class: {classname:5s} is {accuracy:.1f} %')\n"
   ]
  },
  {
   "cell_type": "markdown",
   "id": "3f545de3-c529-4013-ab00-87bbf6a02abc",
   "metadata": {
    "tags": []
   },
   "source": [
    "# Train on GPU (M1 macbook)\n",
    "For English based student,you can see details in \"4.TrainYourNetwork_2_Official.ipynb\" last part"
   ]
  },
  {
   "cell_type": "markdown",
   "id": "bf7e7eaa-27ba-420d-9592-1896855337f4",
   "metadata": {},
   "source": [
    "深度学习自然需要 GPU 来加快训练速度的。所以接下来介绍如果是在 GPU 上训练，应该如何实现。\n",
    "\n",
    "首先，需要检查是否有可用的 GPU 来训练，代码如下："
   ]
  },
  {
   "cell_type": "code",
   "execution_count": 30,
   "id": "52138980-30cb-47ce-be91-1663182daf86",
   "metadata": {},
   "outputs": [
    {
     "name": "stdout",
     "output_type": "stream",
     "text": [
      "mps\n"
     ]
    }
   ],
   "source": [
    "import torch\n",
    "##这是基于cuda CPU的语句 device = torch.device(\"cuda:0\" if torch.cuda.is_available() else \"cpu\")\n",
    "device = torch.device('mps')\n",
    "print(device)"
   ]
  },
  {
   "cell_type": "markdown",
   "id": "17cc86e9-d450-4d8f-9d48-3aba7f076203",
   "metadata": {},
   "source": [
    "输出结果如mps/cuda:0，这表明你的第一块 GPU 显卡或者唯一的 GPU 显卡是空闲可用状态，否则会打印 cpu 。\n",
    "\n",
    "既然有可用的 GPU ，接下来就是在 GPU 上进行训练了，其中需要修改的代码如下，分别是需要将网络参数和数据都转移到 GPU 上："
   ]
  },
  {
   "cell_type": "code",
   "execution_count": 31,
   "id": "6d49009e-957b-43fb-923c-4b13e3533e3b",
   "metadata": {},
   "outputs": [],
   "source": [
    "net.to(device)\n",
    "inputs, labels = inputs.to(device), labels.to(device)"
   ]
  },
  {
   "cell_type": "markdown",
   "id": "3ab19eca-04ff-4ca7-88b2-e3c425c7a01b",
   "metadata": {},
   "source": [
    "修改后的训练代码："
   ]
  },
  {
   "cell_type": "code",
   "execution_count": 32,
   "id": "ffde20da-934b-4b35-aa27-02eb5281e757",
   "metadata": {},
   "outputs": [
    {
     "name": "stdout",
     "output_type": "stream",
     "text": [
      "[1,  2000] loss: 1.139\n",
      "[1,  4000] loss: 1.147\n",
      "[1,  6000] loss: 1.147\n",
      "[1,  8000] loss: 1.131\n",
      "[1, 10000] loss: 1.127\n",
      "[1, 12000] loss: 1.123\n",
      "[2,  2000] loss: 1.023\n",
      "[2,  4000] loss: 1.045\n",
      "[2,  6000] loss: 1.069\n",
      "[2,  8000] loss: 1.061\n",
      "[2, 10000] loss: 1.077\n",
      "[2, 12000] loss: 1.065\n",
      "Finished Training! Total cost time:  199.7595920562744\n"
     ]
    }
   ],
   "source": [
    "import time\n",
    "# 在 GPU 上训练注意需要将网络和数据放到 GPU 上\n",
    "net.to(device)\n",
    "criterion = nn.CrossEntropyLoss()\n",
    "optimizer = optim.SGD(net.parameters(), lr=0.001, momentum=0.9)\n",
    "\n",
    "start = time.time()\n",
    "for epoch in range(2):\n",
    "\n",
    "    running_loss = 0.0\n",
    "    for i, data in enumerate(trainloader, 0):\n",
    "        # 获取输入数据\n",
    "        inputs, labels = data\n",
    "        inputs, labels = inputs.to(device), labels.to(device)\n",
    "        # 清空梯度缓存\n",
    "        optimizer.zero_grad()\n",
    "\n",
    "        outputs = net(inputs)\n",
    "        loss = criterion(outputs, labels)\n",
    "        loss.backward()\n",
    "        optimizer.step()\n",
    "\n",
    "        # 打印统计信息\n",
    "        running_loss += loss.item()\n",
    "        if i % 2000 == 1999:\n",
    "            # 每 2000 次迭代打印一次信息\n",
    "            print('[%d, %5d] loss: %.3f' % (epoch + 1, i+1, running_loss / 2000))\n",
    "            running_loss = 0.0\n",
    "print('Finished Training! Total cost time: ', time.time() - start)"
   ]
  },
  {
   "cell_type": "code",
   "execution_count": null,
   "id": "c9fe1711-4d33-4531-8ce3-84383fd14fe1",
   "metadata": {},
   "outputs": [],
   "source": []
  }
 ],
 "metadata": {
  "kernelspec": {
   "display_name": "Python 3 (ipykernel)",
   "language": "python",
   "name": "python3"
  },
  "language_info": {
   "codemirror_mode": {
    "name": "ipython",
    "version": 3
   },
   "file_extension": ".py",
   "mimetype": "text/x-python",
   "name": "python",
   "nbconvert_exporter": "python",
   "pygments_lexer": "ipython3",
   "version": "3.9.16"
  }
 },
 "nbformat": 4,
 "nbformat_minor": 5
}
